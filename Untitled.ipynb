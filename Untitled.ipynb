{
 "cells": [
  {
   "cell_type": "code",
   "execution_count": 5,
   "metadata": {},
   "outputs": [
    {
     "data": {
      "text/plain": [
       "[{'home_team': True, 'away_team': False, 'country': 'France'},\n",
       " {'home_team': False, 'away_team': True, 'country': 'Australia'}]"
      ]
     },
     "execution_count": 5,
     "metadata": {},
     "output_type": "execute_result"
    }
   ],
   "source": [
    "soccer_match = [\n",
    "  { \"home_team\": True,\n",
    "    \"away_team\": False,\n",
    "    \"country\": \"France\"}, \n",
    "    { \"home_team\": False,\n",
    "    \"away_team\": True,\n",
    "    \"country\": \"Australia\"}]\n",
    "soccer_match"
   ]
  },
  {
   "cell_type": "code",
   "execution_count": 7,
   "metadata": {},
   "outputs": [
    {
     "name": "stdout",
     "output_type": "stream",
     "text": [
      "France\n",
      "Australia\n"
     ]
    }
   ],
   "source": [
    "for team in soccer_match:\n",
    "    print(team['country'])"
   ]
  },
  {
   "cell_type": "code",
   "execution_count": null,
   "metadata": {},
   "outputs": [],
   "source": []
  }
 ],
 "metadata": {
  "kernelspec": {
   "display_name": "Python 3",
   "language": "python",
   "name": "python3"
  },
  "language_info": {
   "codemirror_mode": {
    "name": "ipython",
    "version": 3
   },
   "file_extension": ".py",
   "mimetype": "text/x-python",
   "name": "python",
   "nbconvert_exporter": "python",
   "pygments_lexer": "ipython3",
   "version": "3.7.0"
  }
 },
 "nbformat": 4,
 "nbformat_minor": 2
}
